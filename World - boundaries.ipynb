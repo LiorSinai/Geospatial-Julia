{
 "cells": [
  {
   "cell_type": "markdown",
   "id": "5a36d118",
   "metadata": {},
   "source": [
    "# World Boundaries"
   ]
  },
  {
   "cell_type": "code",
   "execution_count": null,
   "id": "b6986631",
   "metadata": {},
   "outputs": [],
   "source": [
    "using GeoJSON\n",
    "using Plots"
   ]
  },
  {
   "cell_type": "code",
   "execution_count": null,
   "id": "6625d522",
   "metadata": {},
   "outputs": [],
   "source": [
    "using PolygonAlgorithms\n",
    "using PolygonAlgorithms: x_coords, y_coords\n",
    "import PolygonAlgorithms: bounds, contains"
   ]
  },
  {
   "cell_type": "code",
   "execution_count": null,
   "id": "173f8315",
   "metadata": {},
   "outputs": [],
   "source": [
    "using Revise\n",
    "includet(\"modules/geoJSON.jl\")\n",
    "includet(\"modules/projection.jl\")\n",
    "includet(\"modules/affine.jl\")\n",
    "includet(\"modules/reproject.jl\")"
   ]
  },
  {
   "cell_type": "markdown",
   "id": "a760c818",
   "metadata": {},
   "source": [
    "## Boundary Data"
   ]
  },
  {
   "cell_type": "markdown",
   "id": "d4ca49f0",
   "metadata": {},
   "source": [
    "Source: https://www.geoboundaries.org/"
   ]
  },
  {
   "cell_type": "code",
   "execution_count": null,
   "id": "7862ef60",
   "metadata": {},
   "outputs": [
    {
     "data": {
      "text/plain": [
       "FeatureCollection with 218 Features"
      ]
     },
     "execution_count": null,
     "metadata": {},
     "output_type": "execute_result"
    }
   ],
   "source": [
    "data_dir = \"C:\\\\Users\\\\sinai\\\\Documents\\\\Projects\\\\datasets\\\\geospatial\"\n",
    "geojson_filepath = joinpath(data_dir, \"geoBoundariesCGAZ_ADM0.geojson\");\n",
    "shape_data = GeoJSON.read(geojson_filepath)"
   ]
  },
  {
   "cell_type": "code",
   "execution_count": null,
   "id": "7095848d",
   "metadata": {},
   "outputs": [
    {
     "data": {
      "text/plain": [
       "(-180.0f0, -90.0f0, 180.0f0, 83.63339f0)"
      ]
     },
     "execution_count": null,
     "metadata": {},
     "output_type": "execute_result"
    }
   ],
   "source": [
    "bounds(shape_data)"
   ]
  },
  {
   "cell_type": "code",
   "execution_count": null,
   "id": "15a35600",
   "metadata": {},
   "outputs": [],
   "source": [
    "features = filter_largest_geometries(shape_data; keep_top=3);"
   ]
  },
  {
   "cell_type": "markdown",
   "id": "f70ddaec",
   "metadata": {},
   "source": [
    "## Plotting"
   ]
  },
  {
   "cell_type": "code",
   "execution_count": null,
   "id": "095e2799",
   "metadata": {},
   "outputs": [
    {
     "data": {
      "text/plain": [
       "\"images\\\\world_boundaries\""
      ]
     },
     "execution_count": null,
     "metadata": {},
     "output_type": "execute_result"
    }
   ],
   "source": [
    "output_dir = \"images\\\\world_boundaries\""
   ]
  },
  {
   "cell_type": "code",
   "execution_count": null,
   "id": "20e4e133",
   "metadata": {},
   "outputs": [
    {
     "data": {
      "text/plain": [
       "plot_geometry! (generic function with 3 methods)"
      ]
     },
     "execution_count": null,
     "metadata": {},
     "output_type": "execute_result"
    }
   ],
   "source": [
    "function plot_geometry!(canvas, geometry::GeoJSON.AbstractGeometry; options...)\n",
    "    throw(\"Feature geomtery of $type_ is not supported\")\n",
    "end\n",
    "\n",
    "function plot_geometry!(canvas, geometry::GeoJSON.Polygon; options...)\n",
    "    for region in geometry.coordinates\n",
    "        plot!(canvas, [Shape(region)]; options...)\n",
    "    end\n",
    "    canvas\n",
    "end\n",
    "\n",
    "function plot_geometry!(canvas, geometry::GeoJSON.MultiPolygon; options...)\n",
    "    for polygon in geometry.coordinates\n",
    "        for region in polygon\n",
    "            plot!(canvas, [Shape(region)]; options...)\n",
    "        end\n",
    "    end\n",
    "    canvas\n",
    "end"
   ]
  },
  {
   "cell_type": "code",
   "execution_count": null,
   "id": "fafc8a4f",
   "metadata": {},
   "outputs": [
    {
     "name": "stdout",
     "output_type": "stream",
     "text": [
      "1, 2, 3, 4, 5, 6, 7, 8, 9, 10, 11, 12, 13, 14, 15, 16, 17, 18, 19, 20, 21, 22, 23, 24, 25, 26, 27, 28, 29, 30, 31, 32, 33, 34, 35, 36, 37, 38, 39, 40, 41, 42, 43, 44, 45, 46, 47, 48, 49, 50, 51, 52, 53, 54, 55, 56, 57, 58, 59, 60, 61, 62, 63, 64, 65, 66, 67, 68, 69, 70, 71, 72, 73, 74, 75, 76, 77, 78, 79, 80, 81, 82, 83, 84, 85, 86, 87, 88, 89, 90, 91, 92, 93, 94, 95, 96, 97, 98, 99, 100, 101, 102, 103, 104, 105, 106, 107, 108, 109, 110, 111, 112, 113, 114, 115, 116, 117, 118, 119, 120, 121, 122, 123, 124, 125, 126, 127, 128, 129, 130, 131, 132, 133, 134, 135, 136, 137, 138, 139, 140, 141, 142, 143, 144, 145, 146, 147, 148, 149, 150, 151, 152, 153, 154, 155, 156, 157, 158, 159, 160, 161, 162, 163, 164, 165, 166, 167, 168, 169, 170, 171, 172, 173, 174, 175, 176, 177, 178, 179, 180, 181, 182, 183, 184, 185, 186, 187, 188, 189, 190, 191, 192, 193, 194, 195, 196, 197, 198, 199, 200, 201, 202, 203, 204, 205, 206, 207, 208, 209, 210, 211, 212, 213, 214, 215, 216, 217, 218, "
     ]
    }
   ],
   "source": [
    "canvas = plot(aspect_ratio=:equal, size=(900, 500))\n",
    "for (idx, shape) in enumerate(features)\n",
    "    print(\"$idx, \")\n",
    "    plot_geometry!(canvas, shape.geometry; label=\"\", color=:black, fillalpha=0.3)\n",
    "end\n",
    "plot!(\n",
    "    canvas, \n",
    "    xlims=(-181, 181), ylims=(-90, 90),\n",
    "    xlabel=\"longitude (°)\",\n",
    "    ylabel=\"latitude (°)\",\n",
    "    title=\"Equirectangular\",\n",
    "    margin=5Plots.mm,\n",
    "    );\n",
    "#canvas # very slow on Jupyter notebooks"
   ]
  },
  {
   "cell_type": "code",
   "execution_count": null,
   "id": "67698862",
   "metadata": {},
   "outputs": [
    {
     "data": {
      "text/plain": [
       "\"C:\\\\Users\\\\sinai\\\\Documents\\\\Projects\\\\Julia\\\\Geospatial\\\\images\\\\world_boundaries\\\\equirectangular.png\""
      ]
     },
     "execution_count": null,
     "metadata": {},
     "output_type": "execute_result"
    }
   ],
   "source": [
    "output_path = joinpath(output_dir, \"equirectangular.png\")\n",
    "savefig(canvas, output_path)"
   ]
  },
  {
   "cell_type": "markdown",
   "id": "98db731b",
   "metadata": {},
   "source": [
    "## Projections"
   ]
  },
  {
   "cell_type": "code",
   "execution_count": null,
   "id": "848b901e",
   "metadata": {},
   "outputs": [
    {
     "data": {
      "text/plain": [
       "WorldGeodeticSystem84(semi_major_axis=6.378137e6, flattening=1/298.25723)"
      ]
     },
     "execution_count": null,
     "metadata": {},
     "output_type": "execute_result"
    }
   ],
   "source": [
    "src_proj = WorldGeodeticSystem84()"
   ]
  },
  {
   "cell_type": "markdown",
   "id": "712a1a8b",
   "metadata": {},
   "source": [
    "<b>Cylindrical Equal area<b>\n",
    "   \n",
    "$\n",
    "\\begin{align}\n",
    "x &= R(\\lambda - \\lambda_0) \\\\\n",
    "y &= R\\sin \\phi\n",
    "\\end{align}\n",
    "$"
   ]
  },
  {
   "cell_type": "code",
   "execution_count": null,
   "id": "91b484f5",
   "metadata": {},
   "outputs": [
    {
     "data": {
      "text/plain": [
       "CylindricalEqualArea{Float32}(radius=1.0, long0=0.0, k=1.0)"
      ]
     },
     "execution_count": null,
     "metadata": {},
     "output_type": "execute_result"
    }
   ],
   "source": [
    "dest_proj = CylindricalEqualArea(1.0f0, 0.0f0, 1.0f0)"
   ]
  },
  {
   "cell_type": "code",
   "execution_count": null,
   "id": "c4d8dff5",
   "metadata": {},
   "outputs": [],
   "source": [
    "xmin, ymax = dest_proj((-180.0, 90.0));\n",
    "xmax, ymin = dest_proj((180.0, -90.0));"
   ]
  },
  {
   "cell_type": "code",
   "execution_count": null,
   "id": "d5ee6206",
   "metadata": {},
   "outputs": [],
   "source": [
    "canvas = plot(\n",
    "    aspect_ratio=:equal, \n",
    "    xlims=(xmin, xmax), ylims=(ymin, ymax), \n",
    "    title=\"Cylindrical Equal Area\",\n",
    "    size=(1000, 400)\n",
    ")\n",
    "for (idx, shape) in enumerate(features)\n",
    "    projected = reproject(shape, src_proj, dest_proj)\n",
    "    plot_geometry!(canvas, projected.geometry; label=\"\", color=:black, fillalpha=0.3)\n",
    "end\n",
    "#canvas # very slow on Jupyter notebooks"
   ]
  },
  {
   "cell_type": "code",
   "execution_count": null,
   "id": "b857e6ec",
   "metadata": {},
   "outputs": [
    {
     "name": "stdout",
     "output_type": "stream",
     "text": [
      "  6.205568 seconds (737.26 k allocations: 516.472 MiB, 1.38% gc time, 4.80% compilation time)\n"
     ]
    },
    {
     "data": {
      "text/plain": [
       "\"C:\\\\Users\\\\sinai\\\\Documents\\\\Projects\\\\Julia\\\\Geospatial\\\\images\\\\world_boundaries\\\\cylindrical_equal_area.png\""
      ]
     },
     "execution_count": null,
     "metadata": {},
     "output_type": "execute_result"
    }
   ],
   "source": [
    "output_path = joinpath(output_dir, \"cylindrical_equal_area.png\")\n",
    "@time savefig(canvas, output_path)"
   ]
  },
  {
   "cell_type": "markdown",
   "id": "2cf25376",
   "metadata": {},
   "source": [
    "<b>Mercator</b>\n",
    "\n",
    "$\n",
    "\\begin{align}\n",
    "x &= R(\\lambda - \\lambda_0) \\\\\n",
    "y &= R\\ln\\left(\\tan\\left(\\frac{\\pi}{4} + \\frac{\\phi}{2}\\right)\\right)\n",
    "\\end{align}\n",
    "$"
   ]
  },
  {
   "cell_type": "code",
   "execution_count": null,
   "id": "a82c1b56",
   "metadata": {},
   "outputs": [
    {
     "data": {
      "text/plain": [
       "Mercator{Float64}(radius=1.0, long0=0.0, k=1.0)"
      ]
     },
     "execution_count": null,
     "metadata": {},
     "output_type": "execute_result"
    }
   ],
   "source": [
    "dest_proj = Mercator(1.0, 0.0, 1.0)"
   ]
  },
  {
   "cell_type": "code",
   "execution_count": null,
   "id": "b2a475c4",
   "metadata": {},
   "outputs": [
    {
     "data": {
      "text/plain": [
       "filter_latitudes (generic function with 2 methods)"
      ]
     },
     "execution_count": null,
     "metadata": {},
     "output_type": "execute_result"
    }
   ],
   "source": [
    "function filter_latitudes(geometry::GeoJSON.Polygon{D, T}, latitude_min::Float64, latitude_max::Float64) where {D, T}\n",
    "    coords = Vector{Vector{NTuple{D, T}}}()\n",
    "    for region in geometry.coordinates\n",
    "        coords_filtered = filter(x -> latitude_min <= x[2] <= latitude_max , region)\n",
    "        push!(coords, coords_filtered)\n",
    "    end\n",
    "    GeoJSON.Polygon{D, T}(nothing, coords)\n",
    "end\n",
    "\n",
    "function filter_latitudes(geometry::GeoJSON.MultiPolygon{D, T}, latitude_min::Float64, latitude_max::Float64) where {D, T}\n",
    "    coords = Vector{Vector{Vector{NTuple{D, T}}}}()\n",
    "    for polygon in geometry.coordinates\n",
    "        regions = Vector{Vector{NTuple{D, T}}}()\n",
    "        for region in polygon\n",
    "            coords_filtered = filter(x -> latitude_min <= x[2] <= latitude_max , region)\n",
    "            push!(regions, coords_filtered)\n",
    "        end\n",
    "        push!(coords, regions)\n",
    "    end\n",
    "    GeoJSON.MultiPolygon{D, T}(nothing, coords)\n",
    "end"
   ]
  },
  {
   "cell_type": "code",
   "execution_count": null,
   "id": "11288b8e",
   "metadata": {},
   "outputs": [],
   "source": [
    "xmin, ymin = dest_proj((-180.0, -85.0));\n",
    "xmax, ymax = dest_proj((180.0, +85.0));\n",
    "canvas = plot(\n",
    "    aspect_ratio=:equal, \n",
    "    xlims=(xmin, xmax), ylims=(ymin, ymax), \n",
    "    title=\"Mercator\",\n",
    "    size=(700, 700),\n",
    ")\n",
    "for (idx, shape) in enumerate(features)\n",
    "    geometry = shape.geometry\n",
    "    geometry = filter_latitudes(geometry, -85.0, 85.0)\n",
    "    projected = reproject(geometry, src_proj, dest_proj)\n",
    "    plot_geometry!(canvas, projected; label=\"\", color=:black, fillalpha=0.3)\n",
    "end\n"
   ]
  },
  {
   "cell_type": "code",
   "execution_count": null,
   "id": "c345c7e6",
   "metadata": {},
   "outputs": [
    {
     "name": "stdout",
     "output_type": "stream",
     "text": [
      "  7.175488 seconds (54.17 k allocations: 478.798 MiB, 0.95% gc time, 0.16% compilation time)\n"
     ]
    },
    {
     "data": {
      "text/plain": [
       "\"C:\\\\Users\\\\sinai\\\\Documents\\\\Projects\\\\Julia\\\\Geospatial\\\\images\\\\world_boundaries\\\\mercator.png\""
      ]
     },
     "execution_count": null,
     "metadata": {},
     "output_type": "execute_result"
    }
   ],
   "source": [
    "output_path = joinpath(output_dir, \"mercator.png\")\n",
    "@time savefig(canvas, output_path)"
   ]
  },
  {
   "cell_type": "markdown",
   "id": "e0db7be0",
   "metadata": {},
   "source": [
    "<b>Transverse Mercator</b>\n",
    "\n",
    "$\n",
    "\\begin{align}\n",
    "x &= R(\\lambda - \\lambda_0) \\\\\n",
    "y &= R\\ln\\left(\\tan\\left(\\frac{\\pi}{4} + \\frac{\\phi}{2}\\right)\\right)\n",
    "\\end{align}\n",
    "$"
   ]
  },
  {
   "cell_type": "code",
   "execution_count": null,
   "id": "b2c5fe5a",
   "metadata": {},
   "outputs": [
    {
     "data": {
      "text/plain": [
       "split_upper_lower (generic function with 3 methods)"
      ]
     },
     "execution_count": null,
     "metadata": {},
     "output_type": "execute_result"
    }
   ],
   "source": [
    "function split_upper_lower(coords::Vector{NTuple{D, T}}, ymin, ymax) where {D, T}\n",
    "    has_mid = count(x -> ymin <= x[2] <= ymax, coords) >0\n",
    "    merge_top = has_mid && count(x -> x[2] > ymax , coords) > 0\n",
    "    merge_bottom = has_mid && count(x -> x[2] < ymin, coords) > 0\n",
    "    if merge_top && merge_bottom\n",
    "        new_coords = [coords]\n",
    "    elseif merge_top\n",
    "        coords_mid = filter(x -> ymin <= x[2], coords)\n",
    "        coords_lower = filter(x -> x[2] < ymin , coords)\n",
    "        new_coords = [coords_mid, coords_lower]\n",
    "    elseif merge_bottom\n",
    "        coords_upper = filter(x -> x[2] > ymax , coords)\n",
    "        coords_mid = filter(x -> x[2] <= ymax, coords)\n",
    "        new_coords = [coords_mid, coords_upper]\n",
    "    else\n",
    "        coords_upper = filter(x -> x[2] > ymax , coords)\n",
    "        coords_mid = filter(x -> ymin <= x[2] <= ymax, coords)\n",
    "        coords_lower = filter(x -> x[2] < ymin , coords)\n",
    "        new_coords = [coords_upper, coords_mid, coords_lower]\n",
    "    end\n",
    "    new_coords\n",
    "end\n",
    "\n",
    "function split_upper_lower(geometry::GeoJSON.Polygon{D, T}, ymin, ymax) where {D, T}\n",
    "    coords = Vector{Vector{Vector{NTuple{D, T}}}}()\n",
    "    for region in geometry.coordinates\n",
    "        regions_split = split_upper_lower(region, ymin, ymax)\n",
    "        push!(coords, regions_split)\n",
    "    end\n",
    "    GeoJSON.MultiPolygon{D, T}(nothing, coords)\n",
    "end\n",
    "\n",
    "function split_upper_lower(geometry::GeoJSON.MultiPolygon{D, T}, ymin, ymax) where {D, T}\n",
    "    coords = Vector{Vector{Vector{NTuple{D, T}}}}()\n",
    "    for polygon in geometry.coordinates\n",
    "        regions = Vector{Vector{NTuple{D, T}}}()\n",
    "        for region in polygon\n",
    "            regions_split = split_upper_lower(region, ymin, ymax)\n",
    "            push!(regions, regions_split...)\n",
    "        end\n",
    "        push!(coords, regions)\n",
    "    end\n",
    "    GeoJSON.MultiPolygon{D, T}(nothing, coords)\n",
    "end"
   ]
  },
  {
   "cell_type": "code",
   "execution_count": null,
   "id": "e158980f",
   "metadata": {},
   "outputs": [
    {
     "data": {
      "text/plain": [
       "maybe_add_infinity! (generic function with 2 methods)"
      ]
     },
     "execution_count": null,
     "metadata": {},
     "output_type": "execute_result"
    }
   ],
   "source": [
    "function add_infinity!(coordinates::Vector{<:Tuple}; xmax=5.0)\n",
    "    print(\"adding infinity ... \")\n",
    "    idx = 1\n",
    "    diff_max = 0.0\n",
    "    for i in 2:length(coordinates)\n",
    "        y_diff = abs(coordinates[i][2] - coordinates[i - 1][2])\n",
    "        if y_diff > diff_max\n",
    "            diff_max = y_diff\n",
    "            idx = i\n",
    "        end\n",
    "    end\n",
    "    is_increasing = coordinates[idx][2] > coordinates[idx-1][2]\n",
    "    ymax = max(coordinates[idx][2], coordinates[idx - 1][2])\n",
    "    ymin = min(coordinates[idx][2], coordinates[idx - 1][2])\n",
    "    y1 = is_increasing ? ymin : ymax\n",
    "    y2 = is_increasing ? ymax : ymin\n",
    "    insert!(coordinates, idx, (xmax, y1))\n",
    "    insert!(coordinates, idx + 1, (xmax, y2))\n",
    "end\n",
    "\n",
    "function maybe_add_infinity!(geometry::GeoJSON.Polygon,  projected::GeoJSON.Polygon, pole; options...)\n",
    "    for (region, region_proj) in zip(geometry.coordinates, projected.coordinates)\n",
    "        if contains(region, pole)\n",
    "            add_infinity!(region_proj; options...)\n",
    "        end\n",
    "    end\n",
    "end\n",
    "\n",
    "function maybe_add_infinity!(geometry::GeoJSON.MultiPolygon, projected::GeoJSON.MultiPolygon, pole; options...)\n",
    "    for (polygon, polygon_proj) in zip(geometry.coordinates, projected.coordinates)\n",
    "        for (region, region_proj) in zip(polygon, polygon_proj)\n",
    "            if contains(region, pole)\n",
    "                add_infinity!(region_proj; options...)\n",
    "            end\n",
    "        end\n",
    "    end\n",
    "end"
   ]
  },
  {
   "cell_type": "code",
   "execution_count": null,
   "id": "9f128410",
   "metadata": {},
   "outputs": [
    {
     "data": {
      "text/plain": [
       "TransverseMercator{Float32}(radius=1.0, long0=0.0, k=1.0)"
      ]
     },
     "execution_count": null,
     "metadata": {},
     "output_type": "execute_result"
    }
   ],
   "source": [
    "dest_proj = TransverseMercator(1.0f0, 0.0f0, 1.0f0)"
   ]
  },
  {
   "cell_type": "code",
   "execution_count": null,
   "id": "efe8f3a2",
   "metadata": {},
   "outputs": [
    {
     "name": "stdout",
     "output_type": "stream",
     "text": [
      "1, 2, 3, 4, 5, 6, 7, 8, 9, 10, 11, 12, 13, 14, 15, 16, 17, 18, 19, 20, 21, 22, 23, 24, 25, 26, 27, 28, 29, 30, 31, 32, 33, 34, 35, 36, 37, 38, 39, 40, 41, 42, 43, 44, 45, 46, 47, 48, 49, 50, 51, 52, 53, 54, 55, 56, 57, 58, 59, 60, 61, 62, 63, 64, 65, 66, 67, 68, 69, 70, 71, 72, 73, 74, 75, 76, 77, 78, 79, 80, 81, 82, 83, 84, 85, 86, 87, 88, 89, 90, 91, 92, 93, 94, 95, 96, 97, 98, 99, 100, 101, 102, 103, 104, 105, 106, 107, 108, 109, 110, 111, 112, 113, 114, 115, 116, 117, 118, 119, 120, 121, 122, 123, 124, 125, 126, 127, 128, 129, 130, 131, 132, 133, 134, 135, 136, 137, 138, 139, 140, 141, 142, 143, 144, 145, 146, 147, 148, 149, 150, 151, 152, 153, 154, 155, 156, 157, 158, 159, 160, 161, 162, 163, 164, 165, 166, 167, 168, 169, 170, 171, 172, 173, 174, 175, 176, 177, 178, 179, 180, 181, 182, 183, 184, 185, 186, 187, 188, 189, 190, 191, 192, 193, 194, 195, 196, 197, 198, 199, 200, 201, 202, 203, 204, 205, 206, 207, 208, 209, 210, 211, 212, 213, 214, 215, 216, 217, 218, "
     ]
    }
   ],
   "source": [
    "canvas = plot(\n",
    "    aspect_ratio=:equal, \n",
    "    ylims=(-π/2, 3π/2), \n",
    "    title=\"Transverse Mercator $(dest_proj.long0)°\",\n",
    "    size=(800, 600),\n",
    ")\n",
    "west_pole = (-90.0f0 + dest_proj.long0, 0.0f0)\n",
    "east_pole = (90.0f0 + dest_proj.long0, 0.0f0)\n",
    "xmax=5.0\n",
    "for (idx, shape) in enumerate(features)\n",
    "    print(\"$idx, \")\n",
    "    geometry = shape.geometry\n",
    "    projected = reproject(geometry, src_proj, dest_proj; extend=true)\n",
    "    maybe_add_infinity!(geometry, projected, west_pole; xmax=-xmax)\n",
    "    maybe_add_infinity!(geometry, projected, east_pole; xmax=+xmax)\n",
    "    projected = split_upper_lower(projected, -1.0, 1.0)\n",
    "    plot_geometry!(canvas, projected; label=\"\", color=:black, fillalpha=0.3)\n",
    "end\n",
    "plot!([0, 0], [-π/2, π/2+π], c=:black, linestyle=:dash, label=\"\");\n",
    "xlimits = (-xmax, xlims(canvas)[2])\n",
    "#xlimits = (xlims(canvas)[1], xmax)\n",
    "#xlimits = xlims(canvas)\n",
    "plot!(collect(xlimits), [π/2, π/2], c=:black, linestyle=:dash, label=\"\", xlims=xlimits);"
   ]
  },
  {
   "cell_type": "code",
   "execution_count": null,
   "id": "34eac1d9",
   "metadata": {},
   "outputs": [
    {
     "name": "stdout",
     "output_type": "stream",
     "text": [
      "  6.558360 seconds (132.55 k allocations: 483.782 MiB, 1.16% gc time, 1.23% compilation time)\n"
     ]
    },
    {
     "data": {
      "text/plain": [
       "\"C:\\\\Users\\\\sinai\\\\Documents\\\\Projects\\\\Julia\\\\Geospatial\\\\images\\\\world_boundaries\\\\transverse_mercator_0.0.png\""
      ]
     },
     "execution_count": null,
     "metadata": {},
     "output_type": "execute_result"
    }
   ],
   "source": [
    "output_path = joinpath(output_dir, \"transverse_mercator_$(dest_proj.long0).png\")\n",
    "@time savefig(canvas, output_path)"
   ]
  },
  {
   "cell_type": "code",
   "execution_count": null,
   "id": "8a0cfc2b",
   "metadata": {},
   "outputs": [],
   "source": []
  }
 ],
 "metadata": {
  "kernelspec": {
   "display_name": "Julia 1.9.4",
   "language": "julia",
   "name": "julia-1.9"
  }
 },
 "nbformat": 4,
 "nbformat_minor": 5
}
